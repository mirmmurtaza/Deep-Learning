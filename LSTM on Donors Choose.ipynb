{
 "cells": [
  {
   "cell_type": "markdown",
   "metadata": {},
   "source": [
    "# LSTM on Donors Choose data for classification"
   ]
  },
  {
   "cell_type": "code",
   "execution_count": 1,
   "metadata": {},
   "outputs": [],
   "source": [
    "import numpy as np\n",
    "import pandas as pd\n",
    "import matplotlib.pyplot as plt\n",
    "import seaborn as sns\n",
    "import re\n",
    "\n",
    "import warnings\n",
    "warnings.filterwarnings('ignore')"
   ]
  },
  {
   "cell_type": "code",
   "execution_count": 2,
   "metadata": {},
   "outputs": [],
   "source": [
    "train_data = pd.read_csv('train_data.csv')"
   ]
  },
  {
   "cell_type": "code",
   "execution_count": 3,
   "metadata": {},
   "outputs": [
    {
     "data": {
      "text/html": [
       "<div>\n",
       "<style scoped>\n",
       "    .dataframe tbody tr th:only-of-type {\n",
       "        vertical-align: middle;\n",
       "    }\n",
       "\n",
       "    .dataframe tbody tr th {\n",
       "        vertical-align: top;\n",
       "    }\n",
       "\n",
       "    .dataframe thead th {\n",
       "        text-align: right;\n",
       "    }\n",
       "</style>\n",
       "<table border=\"1\" class=\"dataframe\">\n",
       "  <thead>\n",
       "    <tr style=\"text-align: right;\">\n",
       "      <th></th>\n",
       "      <th>Unnamed: 0</th>\n",
       "      <th>id</th>\n",
       "      <th>teacher_id</th>\n",
       "      <th>teacher_prefix</th>\n",
       "      <th>school_state</th>\n",
       "      <th>project_submitted_datetime</th>\n",
       "      <th>project_grade_category</th>\n",
       "      <th>project_subject_categories</th>\n",
       "      <th>project_subject_subcategories</th>\n",
       "      <th>project_title</th>\n",
       "      <th>project_essay_1</th>\n",
       "      <th>project_essay_2</th>\n",
       "      <th>project_essay_3</th>\n",
       "      <th>project_essay_4</th>\n",
       "      <th>project_resource_summary</th>\n",
       "      <th>teacher_number_of_previously_posted_projects</th>\n",
       "      <th>project_is_approved</th>\n",
       "    </tr>\n",
       "  </thead>\n",
       "  <tbody>\n",
       "    <tr>\n",
       "      <th>0</th>\n",
       "      <td>160221</td>\n",
       "      <td>p253737</td>\n",
       "      <td>c90749f5d961ff158d4b4d1e7dc665fc</td>\n",
       "      <td>Mrs.</td>\n",
       "      <td>IN</td>\n",
       "      <td>2016-12-05 13:43:57</td>\n",
       "      <td>Grades PreK-2</td>\n",
       "      <td>Literacy &amp; Language</td>\n",
       "      <td>ESL, Literacy</td>\n",
       "      <td>Educational Support for English Learners at Home</td>\n",
       "      <td>My students are English learners that are work...</td>\n",
       "      <td>\\\"The limits of your language are the limits o...</td>\n",
       "      <td>NaN</td>\n",
       "      <td>NaN</td>\n",
       "      <td>My students need opportunities to practice beg...</td>\n",
       "      <td>0</td>\n",
       "      <td>0</td>\n",
       "    </tr>\n",
       "    <tr>\n",
       "      <th>1</th>\n",
       "      <td>140945</td>\n",
       "      <td>p258326</td>\n",
       "      <td>897464ce9ddc600bced1151f324dd63a</td>\n",
       "      <td>Mr.</td>\n",
       "      <td>FL</td>\n",
       "      <td>2016-10-25 09:22:10</td>\n",
       "      <td>Grades 6-8</td>\n",
       "      <td>History &amp; Civics, Health &amp; Sports</td>\n",
       "      <td>Civics &amp; Government, Team Sports</td>\n",
       "      <td>Wanted: Projector for Hungry Learners</td>\n",
       "      <td>Our students arrive to our school eager to lea...</td>\n",
       "      <td>The projector we need for our school is very c...</td>\n",
       "      <td>NaN</td>\n",
       "      <td>NaN</td>\n",
       "      <td>My students need a projector to help with view...</td>\n",
       "      <td>7</td>\n",
       "      <td>1</td>\n",
       "    </tr>\n",
       "    <tr>\n",
       "      <th>2</th>\n",
       "      <td>21895</td>\n",
       "      <td>p182444</td>\n",
       "      <td>3465aaf82da834c0582ebd0ef8040ca0</td>\n",
       "      <td>Ms.</td>\n",
       "      <td>AZ</td>\n",
       "      <td>2016-08-31 12:03:56</td>\n",
       "      <td>Grades 6-8</td>\n",
       "      <td>Health &amp; Sports</td>\n",
       "      <td>Health &amp; Wellness, Team Sports</td>\n",
       "      <td>Soccer Equipment for AWESOME Middle School Stu...</td>\n",
       "      <td>\\r\\n\\\"True champions aren't always the ones th...</td>\n",
       "      <td>The students on the campus come to school know...</td>\n",
       "      <td>NaN</td>\n",
       "      <td>NaN</td>\n",
       "      <td>My students need shine guards, athletic socks,...</td>\n",
       "      <td>1</td>\n",
       "      <td>0</td>\n",
       "    </tr>\n",
       "    <tr>\n",
       "      <th>3</th>\n",
       "      <td>45</td>\n",
       "      <td>p246581</td>\n",
       "      <td>f3cb9bffbba169bef1a77b243e620b60</td>\n",
       "      <td>Mrs.</td>\n",
       "      <td>KY</td>\n",
       "      <td>2016-10-06 21:16:17</td>\n",
       "      <td>Grades PreK-2</td>\n",
       "      <td>Literacy &amp; Language, Math &amp; Science</td>\n",
       "      <td>Literacy, Mathematics</td>\n",
       "      <td>Techie Kindergarteners</td>\n",
       "      <td>I work at a unique school filled with both ESL...</td>\n",
       "      <td>My students live in high poverty conditions wi...</td>\n",
       "      <td>NaN</td>\n",
       "      <td>NaN</td>\n",
       "      <td>My students need to engage in Reading and Math...</td>\n",
       "      <td>4</td>\n",
       "      <td>1</td>\n",
       "    </tr>\n",
       "    <tr>\n",
       "      <th>4</th>\n",
       "      <td>172407</td>\n",
       "      <td>p104768</td>\n",
       "      <td>be1f7507a41f8479dc06f047086a39ec</td>\n",
       "      <td>Mrs.</td>\n",
       "      <td>TX</td>\n",
       "      <td>2016-07-11 01:10:09</td>\n",
       "      <td>Grades PreK-2</td>\n",
       "      <td>Math &amp; Science</td>\n",
       "      <td>Mathematics</td>\n",
       "      <td>Interactive Math Tools</td>\n",
       "      <td>Our second grade classroom next year will be m...</td>\n",
       "      <td>For many students, math is a subject that does...</td>\n",
       "      <td>NaN</td>\n",
       "      <td>NaN</td>\n",
       "      <td>My students need hands on practice in mathemat...</td>\n",
       "      <td>1</td>\n",
       "      <td>1</td>\n",
       "    </tr>\n",
       "  </tbody>\n",
       "</table>\n",
       "</div>"
      ],
      "text/plain": [
       "   Unnamed: 0       id                        teacher_id teacher_prefix  \\\n",
       "0      160221  p253737  c90749f5d961ff158d4b4d1e7dc665fc           Mrs.   \n",
       "1      140945  p258326  897464ce9ddc600bced1151f324dd63a            Mr.   \n",
       "2       21895  p182444  3465aaf82da834c0582ebd0ef8040ca0            Ms.   \n",
       "3          45  p246581  f3cb9bffbba169bef1a77b243e620b60           Mrs.   \n",
       "4      172407  p104768  be1f7507a41f8479dc06f047086a39ec           Mrs.   \n",
       "\n",
       "  school_state project_submitted_datetime project_grade_category  \\\n",
       "0           IN        2016-12-05 13:43:57          Grades PreK-2   \n",
       "1           FL        2016-10-25 09:22:10             Grades 6-8   \n",
       "2           AZ        2016-08-31 12:03:56             Grades 6-8   \n",
       "3           KY        2016-10-06 21:16:17          Grades PreK-2   \n",
       "4           TX        2016-07-11 01:10:09          Grades PreK-2   \n",
       "\n",
       "            project_subject_categories     project_subject_subcategories  \\\n",
       "0                  Literacy & Language                     ESL, Literacy   \n",
       "1    History & Civics, Health & Sports  Civics & Government, Team Sports   \n",
       "2                      Health & Sports    Health & Wellness, Team Sports   \n",
       "3  Literacy & Language, Math & Science             Literacy, Mathematics   \n",
       "4                       Math & Science                       Mathematics   \n",
       "\n",
       "                                       project_title  \\\n",
       "0   Educational Support for English Learners at Home   \n",
       "1              Wanted: Projector for Hungry Learners   \n",
       "2  Soccer Equipment for AWESOME Middle School Stu...   \n",
       "3                             Techie Kindergarteners   \n",
       "4                             Interactive Math Tools   \n",
       "\n",
       "                                     project_essay_1  \\\n",
       "0  My students are English learners that are work...   \n",
       "1  Our students arrive to our school eager to lea...   \n",
       "2  \\r\\n\\\"True champions aren't always the ones th...   \n",
       "3  I work at a unique school filled with both ESL...   \n",
       "4  Our second grade classroom next year will be m...   \n",
       "\n",
       "                                     project_essay_2 project_essay_3  \\\n",
       "0  \\\"The limits of your language are the limits o...             NaN   \n",
       "1  The projector we need for our school is very c...             NaN   \n",
       "2  The students on the campus come to school know...             NaN   \n",
       "3  My students live in high poverty conditions wi...             NaN   \n",
       "4  For many students, math is a subject that does...             NaN   \n",
       "\n",
       "  project_essay_4                           project_resource_summary  \\\n",
       "0             NaN  My students need opportunities to practice beg...   \n",
       "1             NaN  My students need a projector to help with view...   \n",
       "2             NaN  My students need shine guards, athletic socks,...   \n",
       "3             NaN  My students need to engage in Reading and Math...   \n",
       "4             NaN  My students need hands on practice in mathemat...   \n",
       "\n",
       "   teacher_number_of_previously_posted_projects  project_is_approved  \n",
       "0                                             0                    0  \n",
       "1                                             7                    1  \n",
       "2                                             1                    0  \n",
       "3                                             4                    1  \n",
       "4                                             1                    1  "
      ]
     },
     "execution_count": 3,
     "metadata": {},
     "output_type": "execute_result"
    }
   ],
   "source": [
    "train_data.head()"
   ]
  },
  {
   "cell_type": "code",
   "execution_count": 4,
   "metadata": {},
   "outputs": [
    {
     "data": {
      "image/png": "[encoded data removed]",
      "text/plain": [
       "<Figure size 432x288 with 1 Axes>"
      ]
     },
     "metadata": {
      "needs_background": "light"
     },
     "output_type": "display_data"
    }
   ],
   "source": [
    "sns.countplot(train_data['project_is_approved'])\n",
    "plt.show()"
   ]
  },
  {
   "cell_type": "markdown",
   "metadata": {},
   "source": [
    "- Imbalanced output."
   ]
  },
  {
   "cell_type": "code",
   "execution_count": 5,
   "metadata": {},
   "outputs": [
    {
     "data": {
      "text/html": [
       "<div>\n",
       "<style scoped>\n",
       "    .dataframe tbody tr th:only-of-type {\n",
       "        vertical-align: middle;\n",
       "    }\n",
       "\n",
       "    .dataframe tbody tr th {\n",
       "        vertical-align: top;\n",
       "    }\n",
       "\n",
       "    .dataframe thead th {\n",
       "        text-align: right;\n",
       "    }\n",
       "</style>\n",
       "<table border=\"1\" class=\"dataframe\">\n",
       "  <thead>\n",
       "    <tr style=\"text-align: right;\">\n",
       "      <th></th>\n",
       "      <th>id</th>\n",
       "      <th>description</th>\n",
       "      <th>quantity</th>\n",
       "      <th>price</th>\n",
       "    </tr>\n",
       "  </thead>\n",
       "  <tbody>\n",
       "    <tr>\n",
       "      <th>0</th>\n",
       "      <td>p233245</td>\n",
       "      <td>LC652 - Lakeshore Double-Space Mobile Drying Rack</td>\n",
       "      <td>1</td>\n",
       "      <td>149.00</td>\n",
       "    </tr>\n",
       "    <tr>\n",
       "      <th>1</th>\n",
       "      <td>p069063</td>\n",
       "      <td>Bouncy Bands for Desks (Blue support pipes)</td>\n",
       "      <td>3</td>\n",
       "      <td>14.95</td>\n",
       "    </tr>\n",
       "    <tr>\n",
       "      <th>2</th>\n",
       "      <td>p069063</td>\n",
       "      <td>Cory Stories: A Kid's Book About Living With Adhd</td>\n",
       "      <td>1</td>\n",
       "      <td>8.45</td>\n",
       "    </tr>\n",
       "    <tr>\n",
       "      <th>3</th>\n",
       "      <td>p069063</td>\n",
       "      <td>Dixon Ticonderoga Wood-Cased #2 HB Pencils, Bo...</td>\n",
       "      <td>2</td>\n",
       "      <td>13.59</td>\n",
       "    </tr>\n",
       "    <tr>\n",
       "      <th>4</th>\n",
       "      <td>p069063</td>\n",
       "      <td>EDUCATIONAL INSIGHTS FLUORESCENT LIGHT FILTERS...</td>\n",
       "      <td>3</td>\n",
       "      <td>24.95</td>\n",
       "    </tr>\n",
       "  </tbody>\n",
       "</table>\n",
       "</div>"
      ],
      "text/plain": [
       "        id                                        description  quantity  \\\n",
       "0  p233245  LC652 - Lakeshore Double-Space Mobile Drying Rack         1   \n",
       "1  p069063        Bouncy Bands for Desks (Blue support pipes)         3   \n",
       "2  p069063  Cory Stories: A Kid's Book About Living With Adhd         1   \n",
       "3  p069063  Dixon Ticonderoga Wood-Cased #2 HB Pencils, Bo...         2   \n",
       "4  p069063  EDUCATIONAL INSIGHTS FLUORESCENT LIGHT FILTERS...         3   \n",
       "\n",
       "    price  \n",
       "0  149.00  \n",
       "1   14.95  \n",
       "2    8.45  \n",
       "3   13.59  \n",
       "4   24.95  "
      ]
     },
     "execution_count": 5,
     "metadata": {},
     "output_type": "execute_result"
    }
   ],
   "source": [
    "resources_data = pd.read_csv('resources.csv')\n",
    "resources_data.head()"
   ]
  },
  {
   "cell_type": "code",
   "execution_count": 6,
   "metadata": {},
   "outputs": [
    {
     "data": {
      "text/plain": [
       "Unnamed: 0                                           0\n",
       "id                                                   0\n",
       "teacher_id                                           0\n",
       "teacher_prefix                                       3\n",
       "school_state                                         0\n",
       "project_submitted_datetime                           0\n",
       "project_grade_category                               0\n",
       "project_subject_categories                           0\n",
       "project_subject_subcategories                        0\n",
       "project_title                                        0\n",
       "project_essay_1                                      0\n",
       "project_essay_2                                      0\n",
       "project_essay_3                                 105490\n",
       "project_essay_4                                 105490\n",
       "project_resource_summary                             0\n",
       "teacher_number_of_previously_posted_projects         0\n",
       "project_is_approved                                  0\n",
       "dtype: int64"
      ]
     },
     "execution_count": 6,
     "metadata": {},
     "output_type": "execute_result"
    }
   ],
   "source": [
    "train_data.isnull().sum()"
   ]
  },
  {
   "cell_type": "markdown",
   "metadata": {},
   "source": [
    "- Some NaN values can be observed in the column **teacher_prefix**\n",
    "- A huge number of NaN values can be observed in the essage columns **3** and **4**"
   ]
  },
  {
   "cell_type": "markdown",
   "metadata": {},
   "source": [
    "## 1. *Preprocessing categorical feature:* **project_grade_category**\n",
    "- Convert into lowercase\n",
    "- Replace spaces with '_'\n",
    "- Replace '-' with '_'"
   ]
  },
  {
   "cell_type": "code",
   "execution_count": 7,
   "metadata": {},
   "outputs": [],
   "source": [
    "def preprocess_project_grade_category(document):\n",
    "  document = document.lower()\n",
    "  document = document.replace(' ', '_')\n",
    "  document = document.replace('-', '_')\n",
    "  return document\n",
    "\n",
    "train_data['project_grade_category'] = train_data['project_grade_category'].apply(preprocess_project_grade_category)"
   ]
  },
  {
   "cell_type": "markdown",
   "metadata": {},
   "source": [
    "## 2. *Preprocess:* **project_subject_categories**\n",
    "- Convert into lowercase\n",
    "- Replace spaces.\n",
    "- Remove 'the'\n",
    "- Replace '&' and ',' with '_'"
   ]
  },
  {
   "cell_type": "code",
   "execution_count": 8,
   "metadata": {},
   "outputs": [],
   "source": [
    "def preprocess_project_subject_categories(document):\n",
    "  document = document.lower()\n",
    "  document = document.replace(' the ', '')\n",
    "  document = document.replace(' ', '')\n",
    "  document = document.replace('&', '_')\n",
    "  document = document.replace(',', '_')\n",
    "  return document\n",
    "\n",
    "train_data['project_subject_categories'] = train_data['project_subject_categories'].apply(preprocess_project_subject_categories)"
   ]
  },
  {
   "cell_type": "markdown",
   "metadata": {},
   "source": [
    "## 3. *Preprocess:* **teacher_prefix**\n",
    "- Checking for NaN values.\n",
    "- Converting into lowercase.\n",
    "- Remove '.'"
   ]
  },
  {
   "cell_type": "code",
   "execution_count": 9,
   "metadata": {},
   "outputs": [
    {
     "data": {
      "text/plain": [
       "3"
      ]
     },
     "execution_count": 9,
     "metadata": {},
     "output_type": "execute_result"
    }
   ],
   "source": [
    "train_data['teacher_prefix'].isnull().sum()"
   ]
  },
  {
   "cell_type": "code",
   "execution_count": 10,
   "metadata": {},
   "outputs": [],
   "source": [
    "mode = train_data['teacher_prefix'].mode()\n",
    "train_data['teacher_prefix'] = train_data['teacher_prefix'].fillna(value = mode[0])\n",
    "train_data['teacher_prefix'] = train_data['teacher_prefix'].str.lower()\n",
    "train_data['teacher_prefix'] = train_data['teacher_prefix'].str.replace('.', '')"
   ]
  },
  {
   "cell_type": "markdown",
   "metadata": {},
   "source": [
    "## 4. *Preprocess:* **project_subject_subcategories**`"
   ]
  },
  {
   "cell_type": "code",
   "execution_count": 11,
   "metadata": {},
   "outputs": [],
   "source": [
    "train_data['project_subject_subcategories'] = train_data['project_subject_subcategories'].apply(preprocess_project_subject_categories)"
   ]
  },
  {
   "cell_type": "markdown",
   "metadata": {},
   "source": [
    "## 5. *Preprocess:* **school_state**\n",
    "- Convert into small letters."
   ]
  },
  {
   "cell_type": "code",
   "execution_count": 12,
   "metadata": {},
   "outputs": [],
   "source": [
    "train_data['school_state'] = train_data['school_state'].str.lower()"
   ]
  },
  {
   "cell_type": "markdown",
   "metadata": {},
   "source": [
    "*Combining the essay based columns into one.*"
   ]
  },
  {
   "cell_type": "code",
   "execution_count": 13,
   "metadata": {},
   "outputs": [],
   "source": [
    "train_data['combined_essay'] = train_data['project_essay_1'] + ' ' + train_data['project_essay_2'] + ' ' + train_data['project_essay_3'].fillna(value = ' ') + ' ' + train_data['project_essay_4'].fillna(value = ' ')"
   ]
  },
  {
   "cell_type": "code",
   "execution_count": 14,
   "metadata": {},
   "outputs": [],
   "source": [
    "def preprocess_text(document):\n",
    "  # Converting into lower\n",
    "  document = document.lower()\n",
    "\n",
    "  # Decontraction\n",
    "  document = re.sub(r\"won't\", \"will not\", document)\n",
    "  document = re.sub(r\"can\\'t\", \"can not\", document)\n",
    "  document = re.sub(r\"n\\'t\", \" not\", document)\n",
    "  document = re.sub(r\"\\'re\", \" are\", document)\n",
    "  document = re.sub(r\"\\'s\", \" is\", document)\n",
    "  document = re.sub(r\"\\'d\", \" would\", document)\n",
    "  document = re.sub(r\"\\'ll\", \" will\", document)\n",
    "  document = re.sub(r\"\\'t\", \" not\", document)\n",
    "  document = re.sub(r\"\\'ve\", \" have\", document)\n",
    "  document = re.sub(r\"\\'m\", \" am\", document)\n",
    "\n",
    "  # Removing some specific characters\n",
    "  document = document.replace('\\\\n', '')\n",
    "  document = document.replace('\\\\r', '')\n",
    "  document = document.replace('\\\\\"', '')\n",
    "\n",
    "  # Remove all characters except a-zA-Z0-9\n",
    "  document = re.sub(r'[^a-zA-Z0-9]+', ' ', document)\n",
    "\n",
    "  return document"
   ]
  },
  {
   "cell_type": "code",
   "execution_count": 15,
   "metadata": {},
   "outputs": [],
   "source": [
    "train_data['combined_essay'] = train_data['combined_essay'].apply(preprocess_text)"
   ]
  },
  {
   "cell_type": "code",
   "execution_count": 16,
   "metadata": {},
   "outputs": [
    {
     "data": {
      "text/html": [
       "<div>\n",
       "<style scoped>\n",
       "    .dataframe tbody tr th:only-of-type {\n",
       "        vertical-align: middle;\n",
       "    }\n",
       "\n",
       "    .dataframe tbody tr th {\n",
       "        vertical-align: top;\n",
       "    }\n",
       "\n",
       "    .dataframe thead th {\n",
       "        text-align: right;\n",
       "    }\n",
       "</style>\n",
       "<table border=\"1\" class=\"dataframe\">\n",
       "  <thead>\n",
       "    <tr style=\"text-align: right;\">\n",
       "      <th></th>\n",
       "      <th>id</th>\n",
       "      <th>description</th>\n",
       "      <th>quantity</th>\n",
       "      <th>price</th>\n",
       "    </tr>\n",
       "  </thead>\n",
       "  <tbody>\n",
       "    <tr>\n",
       "      <th>0</th>\n",
       "      <td>p233245</td>\n",
       "      <td>LC652 - Lakeshore Double-Space Mobile Drying Rack</td>\n",
       "      <td>1</td>\n",
       "      <td>149.00</td>\n",
       "    </tr>\n",
       "    <tr>\n",
       "      <th>1</th>\n",
       "      <td>p069063</td>\n",
       "      <td>Bouncy Bands for Desks (Blue support pipes)</td>\n",
       "      <td>3</td>\n",
       "      <td>14.95</td>\n",
       "    </tr>\n",
       "    <tr>\n",
       "      <th>2</th>\n",
       "      <td>p069063</td>\n",
       "      <td>Cory Stories: A Kid's Book About Living With Adhd</td>\n",
       "      <td>1</td>\n",
       "      <td>8.45</td>\n",
       "    </tr>\n",
       "    <tr>\n",
       "      <th>3</th>\n",
       "      <td>p069063</td>\n",
       "      <td>Dixon Ticonderoga Wood-Cased #2 HB Pencils, Bo...</td>\n",
       "      <td>2</td>\n",
       "      <td>13.59</td>\n",
       "    </tr>\n",
       "    <tr>\n",
       "      <th>4</th>\n",
       "      <td>p069063</td>\n",
       "      <td>EDUCATIONAL INSIGHTS FLUORESCENT LIGHT FILTERS...</td>\n",
       "      <td>3</td>\n",
       "      <td>24.95</td>\n",
       "    </tr>\n",
       "    <tr>\n",
       "      <th>5</th>\n",
       "      <td>p069063</td>\n",
       "      <td>Last to Finish: A Story About the Smartest Boy...</td>\n",
       "      <td>1</td>\n",
       "      <td>16.99</td>\n",
       "    </tr>\n",
       "    <tr>\n",
       "      <th>6</th>\n",
       "      <td>p069063</td>\n",
       "      <td>Mrs. Gorski, I Think I Have the Wiggle Fidgets...</td>\n",
       "      <td>1</td>\n",
       "      <td>9.95</td>\n",
       "    </tr>\n",
       "    <tr>\n",
       "      <th>7</th>\n",
       "      <td>p069063</td>\n",
       "      <td>See-N-Read 1503905CQ Reading Tool - Book Size,...</td>\n",
       "      <td>2</td>\n",
       "      <td>10.11</td>\n",
       "    </tr>\n",
       "    <tr>\n",
       "      <th>8</th>\n",
       "      <td>p096795</td>\n",
       "      <td>Brewster WPD90218 Wall Pops Flirt Dot, Set of ...</td>\n",
       "      <td>2</td>\n",
       "      <td>9.95</td>\n",
       "    </tr>\n",
       "    <tr>\n",
       "      <th>9</th>\n",
       "      <td>p096795</td>\n",
       "      <td>Brewster Wall Pops WPE99065 Peel &amp; Stick Calyp...</td>\n",
       "      <td>2</td>\n",
       "      <td>9.02</td>\n",
       "    </tr>\n",
       "  </tbody>\n",
       "</table>\n",
       "</div>"
      ],
      "text/plain": [
       "        id                                        description  quantity  \\\n",
       "0  p233245  LC652 - Lakeshore Double-Space Mobile Drying Rack         1   \n",
       "1  p069063        Bouncy Bands for Desks (Blue support pipes)         3   \n",
       "2  p069063  Cory Stories: A Kid's Book About Living With Adhd         1   \n",
       "3  p069063  Dixon Ticonderoga Wood-Cased #2 HB Pencils, Bo...         2   \n",
       "4  p069063  EDUCATIONAL INSIGHTS FLUORESCENT LIGHT FILTERS...         3   \n",
       "5  p069063  Last to Finish: A Story About the Smartest Boy...         1   \n",
       "6  p069063  Mrs. Gorski, I Think I Have the Wiggle Fidgets...         1   \n",
       "7  p069063  See-N-Read 1503905CQ Reading Tool - Book Size,...         2   \n",
       "8  p096795  Brewster WPD90218 Wall Pops Flirt Dot, Set of ...         2   \n",
       "9  p096795  Brewster Wall Pops WPE99065 Peel & Stick Calyp...         2   \n",
       "\n",
       "    price  \n",
       "0  149.00  \n",
       "1   14.95  \n",
       "2    8.45  \n",
       "3   13.59  \n",
       "4   24.95  \n",
       "5   16.99  \n",
       "6    9.95  \n",
       "7   10.11  \n",
       "8    9.95  \n",
       "9    9.02  "
      ]
     },
     "execution_count": 16,
     "metadata": {},
     "output_type": "execute_result"
    }
   ],
   "source": [
    "resources_data.head(10)"
   ]
  },
  {
   "cell_type": "code",
   "execution_count": 17,
   "metadata": {},
   "outputs": [
    {
     "data": {
      "text/plain": [
       "(1541272, 4)"
      ]
     },
     "execution_count": 17,
     "metadata": {},
     "output_type": "execute_result"
    }
   ],
   "source": [
    "resources_data.shape"
   ]
  },
  {
   "cell_type": "code",
   "execution_count": 18,
   "metadata": {},
   "outputs": [
    {
     "data": {
      "text/plain": [
       "p009778    100\n",
       "p066966    100\n",
       "p137603    100\n",
       "p121858     99\n",
       "p143469     99\n",
       "          ... \n",
       "p138769      1\n",
       "p211521      1\n",
       "p219148      1\n",
       "p103662      1\n",
       "p233245      1\n",
       "Name: id, Length: 260115, dtype: int64"
      ]
     },
     "execution_count": 18,
     "metadata": {},
     "output_type": "execute_result"
    }
   ],
   "source": [
    "resources_data['id'].value_counts()"
   ]
  },
  {
   "cell_type": "code",
   "execution_count": 19,
   "metadata": {},
   "outputs": [
    {
     "data": {
      "text/html": [
       "<div>\n",
       "<style scoped>\n",
       "    .dataframe tbody tr th:only-of-type {\n",
       "        vertical-align: middle;\n",
       "    }\n",
       "\n",
       "    .dataframe tbody tr th {\n",
       "        vertical-align: top;\n",
       "    }\n",
       "\n",
       "    .dataframe thead th {\n",
       "        text-align: right;\n",
       "    }\n",
       "</style>\n",
       "<table border=\"1\" class=\"dataframe\">\n",
       "  <thead>\n",
       "    <tr style=\"text-align: right;\">\n",
       "      <th></th>\n",
       "      <th>id</th>\n",
       "      <th>quantity</th>\n",
       "      <th>price</th>\n",
       "    </tr>\n",
       "  </thead>\n",
       "  <tbody>\n",
       "    <tr>\n",
       "      <th>0</th>\n",
       "      <td>p000001</td>\n",
       "      <td>7</td>\n",
       "      <td>459.56</td>\n",
       "    </tr>\n",
       "    <tr>\n",
       "      <th>1</th>\n",
       "      <td>p000002</td>\n",
       "      <td>21</td>\n",
       "      <td>515.89</td>\n",
       "    </tr>\n",
       "    <tr>\n",
       "      <th>2</th>\n",
       "      <td>p000003</td>\n",
       "      <td>4</td>\n",
       "      <td>298.97</td>\n",
       "    </tr>\n",
       "    <tr>\n",
       "      <th>3</th>\n",
       "      <td>p000004</td>\n",
       "      <td>98</td>\n",
       "      <td>1113.69</td>\n",
       "    </tr>\n",
       "    <tr>\n",
       "      <th>4</th>\n",
       "      <td>p000005</td>\n",
       "      <td>8</td>\n",
       "      <td>485.99</td>\n",
       "    </tr>\n",
       "  </tbody>\n",
       "</table>\n",
       "</div>"
      ],
      "text/plain": [
       "        id  quantity    price\n",
       "0  p000001         7   459.56\n",
       "1  p000002        21   515.89\n",
       "2  p000003         4   298.97\n",
       "3  p000004        98  1113.69\n",
       "4  p000005         8   485.99"
      ]
     },
     "execution_count": 19,
     "metadata": {},
     "output_type": "execute_result"
    }
   ],
   "source": [
    "resources_data = resources_data.groupby('id')['quantity', 'price'].sum().reset_index()\n",
    "resources_data.head()"
   ]
  },
  {
   "cell_type": "code",
   "execution_count": 20,
   "metadata": {},
   "outputs": [],
   "source": [
    "combined_df = pd.merge(left = train_data, right = resources_data, on = 'id', how = 'left')"
   ]
  },
  {
   "cell_type": "markdown",
   "metadata": {},
   "source": [
    "Considering the following columns for making preidctions:\n",
    "- **combined_essay**\n",
    "- **school_state**\n",
    "- **project_grade_category**\n",
    "- **project_subject_categories**\n",
    "- **project_subject_subcategories**\n",
    "- **teacher_prefix**\n",
    "- **teacher_number_of_previously_posted_projects**\n",
    "- **price**\n",
    "- **quantity**"
   ]
  },
  {
   "cell_type": "code",
   "execution_count": 21,
   "metadata": {},
   "outputs": [],
   "source": [
    "final_df = combined_df[['combined_essay', 'school_state', 'project_grade_category', 'project_subject_categories', \n",
    "                        'project_subject_subcategories', 'teacher_prefix', 'teacher_number_of_previously_posted_projects',\n",
    "                        'price', 'quantity', 'project_is_approved']]"
   ]
  },
  {
   "cell_type": "code",
   "execution_count": 22,
   "metadata": {},
   "outputs": [
    {
     "data": {
      "text/html": [
       "<div>\n",
       "<style scoped>\n",
       "    .dataframe tbody tr th:only-of-type {\n",
       "        vertical-align: middle;\n",
       "    }\n",
       "\n",
       "    .dataframe tbody tr th {\n",
       "        vertical-align: top;\n",
       "    }\n",
       "\n",
       "    .dataframe thead th {\n",
       "        text-align: right;\n",
       "    }\n",
       "</style>\n",
       "<table border=\"1\" class=\"dataframe\">\n",
       "  <thead>\n",
       "    <tr style=\"text-align: right;\">\n",
       "      <th></th>\n",
       "      <th>combined_essay</th>\n",
       "      <th>school_state</th>\n",
       "      <th>project_grade_category</th>\n",
       "      <th>project_subject_categories</th>\n",
       "      <th>project_subject_subcategories</th>\n",
       "      <th>teacher_prefix</th>\n",
       "      <th>teacher_number_of_previously_posted_projects</th>\n",
       "      <th>price</th>\n",
       "      <th>quantity</th>\n",
       "      <th>project_is_approved</th>\n",
       "    </tr>\n",
       "  </thead>\n",
       "  <tbody>\n",
       "    <tr>\n",
       "      <th>0</th>\n",
       "      <td>my students are english learners that are work...</td>\n",
       "      <td>in</td>\n",
       "      <td>grades_prek_2</td>\n",
       "      <td>literacy_language</td>\n",
       "      <td>esl_literacy</td>\n",
       "      <td>mrs</td>\n",
       "      <td>0</td>\n",
       "      <td>154.60</td>\n",
       "      <td>23</td>\n",
       "      <td>0</td>\n",
       "    </tr>\n",
       "    <tr>\n",
       "      <th>1</th>\n",
       "      <td>our students arrive to our school eager to lea...</td>\n",
       "      <td>fl</td>\n",
       "      <td>grades_6_8</td>\n",
       "      <td>history_civics_health_sports</td>\n",
       "      <td>civics_government_teamsports</td>\n",
       "      <td>mr</td>\n",
       "      <td>7</td>\n",
       "      <td>299.00</td>\n",
       "      <td>1</td>\n",
       "      <td>1</td>\n",
       "    </tr>\n",
       "    <tr>\n",
       "      <th>2</th>\n",
       "      <td>true champions are not always the ones that wi...</td>\n",
       "      <td>az</td>\n",
       "      <td>grades_6_8</td>\n",
       "      <td>health_sports</td>\n",
       "      <td>health_wellness_teamsports</td>\n",
       "      <td>ms</td>\n",
       "      <td>1</td>\n",
       "      <td>516.85</td>\n",
       "      <td>22</td>\n",
       "      <td>0</td>\n",
       "    </tr>\n",
       "    <tr>\n",
       "      <th>3</th>\n",
       "      <td>i work at a unique school filled with both esl...</td>\n",
       "      <td>ky</td>\n",
       "      <td>grades_prek_2</td>\n",
       "      <td>literacy_language_math_science</td>\n",
       "      <td>literacy_mathematics</td>\n",
       "      <td>mrs</td>\n",
       "      <td>4</td>\n",
       "      <td>232.90</td>\n",
       "      <td>4</td>\n",
       "      <td>1</td>\n",
       "    </tr>\n",
       "    <tr>\n",
       "      <th>4</th>\n",
       "      <td>our second grade classroom next year will be m...</td>\n",
       "      <td>tx</td>\n",
       "      <td>grades_prek_2</td>\n",
       "      <td>math_science</td>\n",
       "      <td>mathematics</td>\n",
       "      <td>mrs</td>\n",
       "      <td>1</td>\n",
       "      <td>67.98</td>\n",
       "      <td>4</td>\n",
       "      <td>1</td>\n",
       "    </tr>\n",
       "  </tbody>\n",
       "</table>\n",
       "</div>"
      ],
      "text/plain": [
       "                                      combined_essay school_state  \\\n",
       "0  my students are english learners that are work...           in   \n",
       "1  our students arrive to our school eager to lea...           fl   \n",
       "2  true champions are not always the ones that wi...           az   \n",
       "3  i work at a unique school filled with both esl...           ky   \n",
       "4  our second grade classroom next year will be m...           tx   \n",
       "\n",
       "  project_grade_category      project_subject_categories  \\\n",
       "0          grades_prek_2               literacy_language   \n",
       "1             grades_6_8    history_civics_health_sports   \n",
       "2             grades_6_8                   health_sports   \n",
       "3          grades_prek_2  literacy_language_math_science   \n",
       "4          grades_prek_2                    math_science   \n",
       "\n",
       "  project_subject_subcategories teacher_prefix  \\\n",
       "0                  esl_literacy            mrs   \n",
       "1  civics_government_teamsports             mr   \n",
       "2    health_wellness_teamsports             ms   \n",
       "3          literacy_mathematics            mrs   \n",
       "4                   mathematics            mrs   \n",
       "\n",
       "   teacher_number_of_previously_posted_projects   price  quantity  \\\n",
       "0                                             0  154.60        23   \n",
       "1                                             7  299.00         1   \n",
       "2                                             1  516.85        22   \n",
       "3                                             4  232.90         4   \n",
       "4                                             1   67.98         4   \n",
       "\n",
       "   project_is_approved  \n",
       "0                    0  \n",
       "1                    1  \n",
       "2                    0  \n",
       "3                    1  \n",
       "4                    1  "
      ]
     },
     "execution_count": 22,
     "metadata": {},
     "output_type": "execute_result"
    }
   ],
   "source": [
    "final_df.head()"
   ]
  },
  {
   "cell_type": "markdown",
   "metadata": {},
   "source": [
    "*Using* **LabelEncoder** *on categorical columns:*\n",
    "- **school_state**\n",
    "- **project_grade_category**\n",
    "- **project_subject_categories**\n",
    "- **project_subject_subcategories**"
   ]
  },
  {
   "cell_type": "code",
   "execution_count": 23,
   "metadata": {},
   "outputs": [],
   "source": [
    "from sklearn.preprocessing import LabelEncoder\n",
    "le_school_state = LabelEncoder()\n",
    "le_project_grade_category = LabelEncoder()\n",
    "le_project_subject_categories = LabelEncoder()\n",
    "le_project_subject_subcategories = LabelEncoder()\n",
    "\n",
    "categorical_cols = ['school_state', 'project_grade_category', 'project_subject_categories', 'project_subject_subcategories']\n",
    "\n",
    "school_state = le_school_state.fit_transform(final_df['school_state'])\n",
    "project_grade_category = le_project_grade_category.fit_transform(final_df['project_grade_category'])\n",
    "project_subject_categories = le_project_subject_categories.fit_transform(final_df['project_subject_categories'])\n",
    "project_subject_subcategories = le_project_subject_subcategories.fit_transform(final_df['project_subject_subcategories'])"
   ]
  },
  {
   "cell_type": "code",
   "execution_count": 24,
   "metadata": {},
   "outputs": [],
   "source": [
    "categorical_data = pd.DataFrame(school_state, columns = ['school_state'])\n",
    "categorical_data['project_grade_category'] = project_grade_category\n",
    "categorical_data['project_subject_categories'] = project_subject_categories\n",
    "categorical_data['project_subject_subcategories'] = project_subject_subcategories"
   ]
  },
  {
   "cell_type": "markdown",
   "metadata": {},
   "source": [
    "*Combining the data as follows*"
   ]
  },
  {
   "cell_type": "code",
   "execution_count": 25,
   "metadata": {},
   "outputs": [],
   "source": [
    "num_data_cols = ['price', 'quantity', 'teacher_number_of_previously_posted_projects']\n",
    "df = pd.concat([final_df['combined_essay'], categorical_data, final_df[num_data_cols]], axis = 1)"
   ]
  },
  {
   "cell_type": "code",
   "execution_count": 26,
   "metadata": {},
   "outputs": [],
   "source": [
    "df['project_is_approved'] = final_df['project_is_approved']"
   ]
  },
  {
   "cell_type": "code",
   "execution_count": 27,
   "metadata": {},
   "outputs": [
    {
     "data": {
      "text/html": [
       "<div>\n",
       "<style scoped>\n",
       "    .dataframe tbody tr th:only-of-type {\n",
       "        vertical-align: middle;\n",
       "    }\n",
       "\n",
       "    .dataframe tbody tr th {\n",
       "        vertical-align: top;\n",
       "    }\n",
       "\n",
       "    .dataframe thead th {\n",
       "        text-align: right;\n",
       "    }\n",
       "</style>\n",
       "<table border=\"1\" class=\"dataframe\">\n",
       "  <thead>\n",
       "    <tr style=\"text-align: right;\">\n",
       "      <th></th>\n",
       "      <th>combined_essay</th>\n",
       "      <th>school_state</th>\n",
       "      <th>project_grade_category</th>\n",
       "      <th>project_subject_categories</th>\n",
       "      <th>project_subject_subcategories</th>\n",
       "      <th>price</th>\n",
       "      <th>quantity</th>\n",
       "      <th>teacher_number_of_previously_posted_projects</th>\n",
       "      <th>project_is_approved</th>\n",
       "    </tr>\n",
       "  </thead>\n",
       "  <tbody>\n",
       "    <tr>\n",
       "      <th>0</th>\n",
       "      <td>my students are english learners that are work...</td>\n",
       "      <td>15</td>\n",
       "      <td>3</td>\n",
       "      <td>24</td>\n",
       "      <td>197</td>\n",
       "      <td>154.60</td>\n",
       "      <td>23</td>\n",
       "      <td>0</td>\n",
       "      <td>0</td>\n",
       "    </tr>\n",
       "    <tr>\n",
       "      <th>1</th>\n",
       "      <td>our students arrive to our school eager to lea...</td>\n",
       "      <td>9</td>\n",
       "      <td>1</td>\n",
       "      <td>18</td>\n",
       "      <td>77</td>\n",
       "      <td>299.00</td>\n",
       "      <td>1</td>\n",
       "      <td>7</td>\n",
       "      <td>1</td>\n",
       "    </tr>\n",
       "    <tr>\n",
       "      <th>2</th>\n",
       "      <td>true champions are not always the ones that wi...</td>\n",
       "      <td>3</td>\n",
       "      <td>1</td>\n",
       "      <td>8</td>\n",
       "      <td>301</td>\n",
       "      <td>516.85</td>\n",
       "      <td>22</td>\n",
       "      <td>1</td>\n",
       "      <td>0</td>\n",
       "    </tr>\n",
       "    <tr>\n",
       "      <th>3</th>\n",
       "      <td>i work at a unique school filled with both esl...</td>\n",
       "      <td>17</td>\n",
       "      <td>3</td>\n",
       "      <td>28</td>\n",
       "      <td>319</td>\n",
       "      <td>232.90</td>\n",
       "      <td>4</td>\n",
       "      <td>4</td>\n",
       "      <td>1</td>\n",
       "    </tr>\n",
       "    <tr>\n",
       "      <th>4</th>\n",
       "      <td>our second grade classroom next year will be m...</td>\n",
       "      <td>43</td>\n",
       "      <td>3</td>\n",
       "      <td>32</td>\n",
       "      <td>342</td>\n",
       "      <td>67.98</td>\n",
       "      <td>4</td>\n",
       "      <td>1</td>\n",
       "      <td>1</td>\n",
       "    </tr>\n",
       "  </tbody>\n",
       "</table>\n",
       "</div>"
      ],
      "text/plain": [
       "                                      combined_essay  school_state  \\\n",
       "0  my students are english learners that are work...            15   \n",
       "1  our students arrive to our school eager to lea...             9   \n",
       "2  true champions are not always the ones that wi...             3   \n",
       "3  i work at a unique school filled with both esl...            17   \n",
       "4  our second grade classroom next year will be m...            43   \n",
       "\n",
       "   project_grade_category  project_subject_categories  \\\n",
       "0                       3                          24   \n",
       "1                       1                          18   \n",
       "2                       1                           8   \n",
       "3                       3                          28   \n",
       "4                       3                          32   \n",
       "\n",
       "   project_subject_subcategories   price  quantity  \\\n",
       "0                            197  154.60        23   \n",
       "1                             77  299.00         1   \n",
       "2                            301  516.85        22   \n",
       "3                            319  232.90         4   \n",
       "4                            342   67.98         4   \n",
       "\n",
       "   teacher_number_of_previously_posted_projects  project_is_approved  \n",
       "0                                             0                    0  \n",
       "1                                             7                    1  \n",
       "2                                             1                    0  \n",
       "3                                             4                    1  \n",
       "4                                             1                    1  "
      ]
     },
     "execution_count": 27,
     "metadata": {},
     "output_type": "execute_result"
    }
   ],
   "source": [
    "df.head()"
   ]
  },
  {
   "cell_type": "markdown",
   "metadata": {},
   "source": [
    "*Splitting the data into train and test set and making the data model-ready as follows*"
   ]
  },
  {
   "cell_type": "code",
   "execution_count": 28,
   "metadata": {},
   "outputs": [],
   "source": [
    "from sklearn.model_selection import train_test_split\n",
    "\n",
    "X_train, X_test, y_train, y_test = train_test_split(df.drop('project_is_approved', axis = 1), df['project_is_approved'],\n",
    "                                                    random_state = 10, stratify = df['project_is_approved'])"
   ]
  },
  {
   "cell_type": "code",
   "execution_count": 29,
   "metadata": {},
   "outputs": [],
   "source": [
    "from keras.preprocessing.text import Tokenizer\n",
    "from keras.preprocessing.sequence import pad_sequences\n",
    "\n",
    "tokenizer = Tokenizer()\n",
    "\n",
    "tokenizer.fit_on_texts(X_train['combined_essay'])\n",
    "\n",
    "train_essay_tokenizer = tokenizer.texts_to_sequences(X_train['combined_essay'])\n",
    "test_essay_tokenizer = tokenizer.texts_to_sequences(X_test['combined_essay'])"
   ]
  },
  {
   "cell_type": "code",
   "execution_count": 30,
   "metadata": {},
   "outputs": [
    {
     "data": {
      "text/html": [
       "<div>\n",
       "<style scoped>\n",
       "    .dataframe tbody tr th:only-of-type {\n",
       "        vertical-align: middle;\n",
       "    }\n",
       "\n",
       "    .dataframe tbody tr th {\n",
       "        vertical-align: top;\n",
       "    }\n",
       "\n",
       "    .dataframe thead th {\n",
       "        text-align: right;\n",
       "    }\n",
       "</style>\n",
       "<table border=\"1\" class=\"dataframe\">\n",
       "  <thead>\n",
       "    <tr style=\"text-align: right;\">\n",
       "      <th></th>\n",
       "      <th>count</th>\n",
       "      <th>mean</th>\n",
       "      <th>std</th>\n",
       "      <th>min</th>\n",
       "      <th>10%</th>\n",
       "      <th>25%</th>\n",
       "      <th>50%</th>\n",
       "      <th>75%</th>\n",
       "      <th>90%</th>\n",
       "      <th>max</th>\n",
       "    </tr>\n",
       "  </thead>\n",
       "  <tbody>\n",
       "    <tr>\n",
       "      <th>0</th>\n",
       "      <td>81936.0</td>\n",
       "      <td>259.517404</td>\n",
       "      <td>66.619906</td>\n",
       "      <td>126.0</td>\n",
       "      <td>191.0</td>\n",
       "      <td>207.0</td>\n",
       "      <td>241.0</td>\n",
       "      <td>297.0</td>\n",
       "      <td>358.0</td>\n",
       "      <td>529.0</td>\n",
       "    </tr>\n",
       "  </tbody>\n",
       "</table>\n",
       "</div>"
      ],
      "text/plain": [
       "     count        mean        std    min    10%    25%    50%    75%    90%  \\\n",
       "0  81936.0  259.517404  66.619906  126.0  191.0  207.0  241.0  297.0  358.0   \n",
       "\n",
       "     max  \n",
       "0  529.0  "
      ]
     },
     "execution_count": 30,
     "metadata": {},
     "output_type": "execute_result"
    }
   ],
   "source": [
    "l = []\n",
    "for i in X_train['combined_essay']:\n",
    "  l.append(len(i.split()))\n",
    "\n",
    "pd.DataFrame(l).describe(percentiles = [0.25, 0.75, 0.9, 0.1]).T"
   ]
  },
  {
   "cell_type": "code",
   "execution_count": 31,
   "metadata": {},
   "outputs": [],
   "source": [
    "X_train_essay_padded = pad_sequences(train_essay_tokenizer, maxlen = 297, padding = 'post')\n",
    "X_test_essay_padded = pad_sequences(test_essay_tokenizer, maxlen = 297, padding = 'post')"
   ]
  },
  {
   "cell_type": "code",
   "execution_count": 32,
   "metadata": {},
   "outputs": [],
   "source": [
    "import pickle \n",
    "\n",
    "with open('glove_vectors', 'rb') as f:\n",
    "    glove_vectors = pickle.load(f)\n",
    "    glove_words =  set(glove_vectors.keys())"
   ]
  },
  {
   "cell_type": "code",
   "execution_count": 33,
   "metadata": {},
   "outputs": [],
   "source": [
    "vocab_size = len(tokenizer.word_index)\n",
    "embedding_matrix = np.zeros(shape = (vocab_size + 1, 300))\n",
    "for word, index in tokenizer.word_index.items():\n",
    "  embedding_vector = glove_vectors.get(word)\n",
    "  if embedding_vector is not None:\n",
    "    embedding_matrix[index] = embedding_vector"
   ]
  },
  {
   "cell_type": "markdown",
   "metadata": {},
   "source": [
    "*Standardizing the numerical columns.*"
   ]
  },
  {
   "cell_type": "code",
   "execution_count": 34,
   "metadata": {},
   "outputs": [],
   "source": [
    "from sklearn.preprocessing import StandardScaler\n",
    "scaler = StandardScaler()\n",
    "\n",
    "X_train[num_data_cols] = scaler.fit_transform(X_train[num_data_cols])\n",
    "X_test[num_data_cols] = scaler.transform(X_test[num_data_cols])"
   ]
  },
  {
   "cell_type": "code",
   "execution_count": 35,
   "metadata": {},
   "outputs": [
    {
     "data": {
      "text/html": [
       "<div>\n",
       "<style scoped>\n",
       "    .dataframe tbody tr th:only-of-type {\n",
       "        vertical-align: middle;\n",
       "    }\n",
       "\n",
       "    .dataframe tbody tr th {\n",
       "        vertical-align: top;\n",
       "    }\n",
       "\n",
       "    .dataframe thead th {\n",
       "        text-align: right;\n",
       "    }\n",
       "</style>\n",
       "<table border=\"1\" class=\"dataframe\">\n",
       "  <thead>\n",
       "    <tr style=\"text-align: right;\">\n",
       "      <th></th>\n",
       "      <th>combined_essay</th>\n",
       "      <th>school_state</th>\n",
       "      <th>project_grade_category</th>\n",
       "      <th>project_subject_categories</th>\n",
       "      <th>project_subject_subcategories</th>\n",
       "      <th>price</th>\n",
       "      <th>quantity</th>\n",
       "      <th>teacher_number_of_previously_posted_projects</th>\n",
       "    </tr>\n",
       "  </thead>\n",
       "  <tbody>\n",
       "    <tr>\n",
       "      <th>79994</th>\n",
       "      <td>my students are three and four years old and p...</td>\n",
       "      <td>34</td>\n",
       "      <td>3</td>\n",
       "      <td>36</td>\n",
       "      <td>17</td>\n",
       "      <td>-0.317280</td>\n",
       "      <td>-0.456577</td>\n",
       "      <td>1.255421</td>\n",
       "    </tr>\n",
       "    <tr>\n",
       "      <th>48703</th>\n",
       "      <td>hello i teach at a public charter school in ci...</td>\n",
       "      <td>35</td>\n",
       "      <td>1</td>\n",
       "      <td>36</td>\n",
       "      <td>174</td>\n",
       "      <td>-0.009404</td>\n",
       "      <td>-0.608427</td>\n",
       "      <td>-0.400656</td>\n",
       "    </tr>\n",
       "    <tr>\n",
       "      <th>59827</th>\n",
       "      <td>i am proud to teach at our school in howe idah...</td>\n",
       "      <td>13</td>\n",
       "      <td>0</td>\n",
       "      <td>8</td>\n",
       "      <td>396</td>\n",
       "      <td>2.095833</td>\n",
       "      <td>0.264711</td>\n",
       "      <td>-0.076641</td>\n",
       "    </tr>\n",
       "    <tr>\n",
       "      <th>34841</th>\n",
       "      <td>our first day of the new school year is in the...</td>\n",
       "      <td>42</td>\n",
       "      <td>0</td>\n",
       "      <td>8</td>\n",
       "      <td>256</td>\n",
       "      <td>1.176502</td>\n",
       "      <td>-0.532502</td>\n",
       "      <td>0.031364</td>\n",
       "    </tr>\n",
       "    <tr>\n",
       "      <th>9572</th>\n",
       "      <td>i teach a wonderfully eager group of second gr...</td>\n",
       "      <td>4</td>\n",
       "      <td>3</td>\n",
       "      <td>24</td>\n",
       "      <td>317</td>\n",
       "      <td>-0.024950</td>\n",
       "      <td>-0.570464</td>\n",
       "      <td>-0.364654</td>\n",
       "    </tr>\n",
       "  </tbody>\n",
       "</table>\n",
       "</div>"
      ],
      "text/plain": [
       "                                          combined_essay  school_state  \\\n",
       "79994  my students are three and four years old and p...            34   \n",
       "48703  hello i teach at a public charter school in ci...            35   \n",
       "59827  i am proud to teach at our school in howe idah...            13   \n",
       "34841  our first day of the new school year is in the...            42   \n",
       "9572   i teach a wonderfully eager group of second gr...             4   \n",
       "\n",
       "       project_grade_category  project_subject_categories  \\\n",
       "79994                       3                          36   \n",
       "48703                       1                          36   \n",
       "59827                       0                           8   \n",
       "34841                       0                           8   \n",
       "9572                        3                          24   \n",
       "\n",
       "       project_subject_subcategories     price  quantity  \\\n",
       "79994                             17 -0.317280 -0.456577   \n",
       "48703                            174 -0.009404 -0.608427   \n",
       "59827                            396  2.095833  0.264711   \n",
       "34841                            256  1.176502 -0.532502   \n",
       "9572                             317 -0.024950 -0.570464   \n",
       "\n",
       "       teacher_number_of_previously_posted_projects  \n",
       "79994                                      1.255421  \n",
       "48703                                     -0.400656  \n",
       "59827                                     -0.076641  \n",
       "34841                                      0.031364  \n",
       "9572                                      -0.364654  "
      ]
     },
     "execution_count": 35,
     "metadata": {},
     "output_type": "execute_result"
    }
   ],
   "source": [
    "X_train.head()"
   ]
  },
  {
   "cell_type": "markdown",
   "metadata": {},
   "source": [
    "## Model 1"
   ]
  },
  {
   "cell_type": "code",
   "execution_count": 36,
   "metadata": {},
   "outputs": [],
   "source": [
    "import tensorflow as tf\n",
    "import tensorflow.keras as keras\n",
    "from keras.layers import LSTM, Dense, concatenate, Embedding, Flatten, Concatenate, Dropout, Conv1D\n",
    "from keras.models import Model, Input"
   ]
  },
  {
   "cell_type": "code",
   "execution_count": 37,
   "metadata": {},
   "outputs": [],
   "source": [
    "from tensorflow_addons.metrics import F1Score\n",
    "from keras.metrics import AUC"
   ]
  },
  {
   "cell_type": "code",
   "execution_count": 38,
   "metadata": {},
   "outputs": [],
   "source": [
    "input_essay = Input(shape = (297,))\n",
    "embedding_essay = Embedding(input_dim = vocab_size+1, output_dim = 300, weights = [embedding_matrix], input_length = 297)(input_essay)\n",
    "lstm_1 = LSTM(units = 64, return_sequences = True)(embedding_essay)\n",
    "flatten_essay = Flatten()(lstm_1)\n",
    "\n",
    "input_school_state = Input(shape = (1,))\n",
    "embedding_school_state = Embedding(input_dim = len(set(school_state))+1, output_dim = 100, input_length = 1)(input_school_state)\n",
    "flatten_school_state = Flatten()(embedding_school_state)\n",
    "\n",
    "input_project_grade_category = Input(shape = (1,))\n",
    "embedding_project_grade_category = Embedding(input_dim = len(set(project_grade_category))+1, output_dim = 100, input_length = 1)(input_project_grade_category)\n",
    "flatten_project_grade_category = Flatten()(embedding_project_grade_category)\n",
    "\n",
    "input_project_subject_categories = Input(shape = (1,))\n",
    "embedding_project_subject_categories = Embedding(input_dim = len(set(project_subject_categories))+1, output_dim = 100, input_length = 1)(input_project_subject_categories)\n",
    "flatten_project_subject_categories = Flatten()(embedding_project_subject_categories)\n",
    "\n",
    "input_project_subject_subcategories = Input(shape = (1,))\n",
    "embedding_project_subject_subcategories = Embedding(input_dim = len(set(project_subject_subcategories))+1, output_dim = 100, input_length = 1)(input_project_subject_subcategories)\n",
    "flatten_project_subject_subcategories = Flatten()(embedding_project_subject_subcategories)\n",
    "\n",
    "input_num = Input(shape = (3,))\n",
    "dense_num = Dense(64, activation = 'relu', kernel_initializer = 'glorot_normal')(input_num)\n",
    "\n",
    "concatenate_layer = concatenate([flatten_essay, flatten_school_state, flatten_project_grade_category, flatten_project_subject_categories, flatten_project_subject_subcategories, dense_num])\n",
    "\n",
    "dense_1 = Dense(units = 64, activation = 'relu')(concatenate_layer)\n",
    "dropout_1 = Dropout(0.3)(dense_1)\n",
    "\n",
    "dense_2 = Dense(units = 64, activation = 'relu')(dropout_1)\n",
    "dropout_2 = Dropout(0.3)(dense_2)\n",
    "\n",
    "dense_3 = Dense(32, activation = 'relu')(dropout_2)\n",
    "\n",
    "output_layer = Dense(units = 1, activation = 'sigmoid')(dense_3)\n",
    "\n",
    "model_1 = Model(inputs = [input_essay, input_school_state, input_project_grade_category, input_project_subject_categories, input_project_subject_subcategories, input_num], \n",
    "                outputs = output_layer)"
   ]
  },
  {
   "cell_type": "code",
   "execution_count": 39,
   "metadata": {},
   "outputs": [
    {
     "name": "stdout",
     "output_type": "stream",
     "text": [
      "Model: \"model\"\n",
      "__________________________________________________________________________________________________\n",
      " Layer (type)                   Output Shape         Param #     Connected to                     \n",
      "==================================================================================================\n",
      " input_1 (InputLayer)           [(None, 297)]        0           []                               \n",
      "                                                                                                  \n",
      " embedding (Embedding)          (None, 297, 300)     15316500    ['input_1[0][0]']                \n",
      "                                                                                                  \n",
      " input_2 (InputLayer)           [(None, 1)]          0           []                               \n",
      "                                                                                                  \n",
      " input_3 (InputLayer)           [(None, 1)]          0           []                               \n",
      "                                                                                                  \n",
      " input_4 (InputLayer)           [(None, 1)]          0           []                               \n",
      "                                                                                                  \n",
      " input_5 (InputLayer)           [(None, 1)]          0           []                               \n",
      "                                                                                                  \n",
      " lstm (LSTM)                    (None, 297, 64)      93440       ['embedding[0][0]']              \n",
      "                                                                                                  \n",
      " embedding_1 (Embedding)        (None, 1, 100)       5200        ['input_2[0][0]']                \n",
      "                                                                                                  \n",
      " embedding_2 (Embedding)        (None, 1, 100)       500         ['input_3[0][0]']                \n",
      "                                                                                                  \n",
      " embedding_3 (Embedding)        (None, 1, 100)       5200        ['input_4[0][0]']                \n",
      "                                                                                                  \n",
      " embedding_4 (Embedding)        (None, 1, 100)       40200       ['input_5[0][0]']                \n",
      "                                                                                                  \n",
      " input_6 (InputLayer)           [(None, 3)]          0           []                               \n",
      "                                                                                                  \n",
      " flatten (Flatten)              (None, 19008)        0           ['lstm[0][0]']                   \n",
      "                                                                                                  \n",
      " flatten_1 (Flatten)            (None, 100)          0           ['embedding_1[0][0]']            \n",
      "                                                                                                  \n",
      " flatten_2 (Flatten)            (None, 100)          0           ['embedding_2[0][0]']            \n",
      "                                                                                                  \n",
      " flatten_3 (Flatten)            (None, 100)          0           ['embedding_3[0][0]']            \n",
      "                                                                                                  \n",
      " flatten_4 (Flatten)            (None, 100)          0           ['embedding_4[0][0]']            \n",
      "                                                                                                  \n",
      " dense (Dense)                  (None, 64)           256         ['input_6[0][0]']                \n",
      "                                                                                                  \n",
      " concatenate (Concatenate)      (None, 19472)        0           ['flatten[0][0]',                \n",
      "                                                                  'flatten_1[0][0]',              \n",
      "                                                                  'flatten_2[0][0]',              \n",
      "                                                                  'flatten_3[0][0]',              \n",
      "                                                                  'flatten_4[0][0]',              \n",
      "                                                                  'dense[0][0]']                  \n",
      "                                                                                                  \n",
      " dense_1 (Dense)                (None, 64)           1246272     ['concatenate[0][0]']            \n",
      "                                                                                                  \n",
      " dropout (Dropout)              (None, 64)           0           ['dense_1[0][0]']                \n",
      "                                                                                                  \n",
      " dense_2 (Dense)                (None, 64)           4160        ['dropout[0][0]']                \n",
      "                                                                                                  \n",
      " dropout_1 (Dropout)            (None, 64)           0           ['dense_2[0][0]']                \n",
      "                                                                                                  \n",
      " dense_3 (Dense)                (None, 32)           2080        ['dropout_1[0][0]']              \n",
      "                                                                                                  \n",
      " dense_4 (Dense)                (None, 1)            33          ['dense_3[0][0]']                \n",
      "                                                                                                  \n",
      "==================================================================================================\n",
      "Total params: 16,713,841\n",
      "Trainable params: 16,713,841\n",
      "Non-trainable params: 0\n",
      "__________________________________________________________________________________________________\n"
     ]
    }
   ],
   "source": [
    "model_1.summary()"
   ]
  },
  {
   "cell_type": "code",
   "execution_count": 40,
   "metadata": {},
   "outputs": [
    {
     "name": "stdout",
     "output_type": "stream",
     "text": [
      "Epoch 1/10\n",
      "820/820 [==============================] - 715s 870ms/step - loss: 0.3885 - auc: 0.7138 - val_loss: 0.3853 - val_auc: 0.7768\n",
      "Epoch 2/10\n",
      "820/820 [==============================] - 666s 812ms/step - loss: 0.3358 - auc: 0.8096 - val_loss: 0.3624 - val_auc: 0.7661\n",
      "Epoch 3/10\n",
      "820/820 [==============================] - 660s 805ms/step - loss: 0.2468 - auc: 0.9086 - val_loss: 0.4254 - val_auc: 0.7154\n",
      "Epoch 4/10\n",
      "820/820 [==============================] - 672s 820ms/step - loss: 0.1144 - auc: 0.9811 - val_loss: 0.6479 - val_auc: 0.6795\n",
      "Epoch 5/10\n",
      "820/820 [==============================] - 676s 825ms/step - loss: 0.0507 - auc: 0.9954 - val_loss: 0.9594 - val_auc: 0.6566\n",
      "Epoch 6/10\n",
      "820/820 [==============================] - 679s 828ms/step - loss: 0.0319 - auc: 0.9977 - val_loss: 1.1738 - val_auc: 0.6552\n",
      "Epoch 7/10\n",
      "820/820 [==============================] - 722s 881ms/step - loss: 0.0233 - auc: 0.9985 - val_loss: 1.2867 - val_auc: 0.6476\n",
      "Epoch 8/10\n",
      "820/820 [==============================] - 681s 831ms/step - loss: 0.0210 - auc: 0.9986 - val_loss: 1.3356 - val_auc: 0.6461\n",
      "Epoch 9/10\n",
      "820/820 [==============================] - 687s 838ms/step - loss: 0.0185 - auc: 0.9989 - val_loss: 1.5396 - val_auc: 0.6280\n",
      "Epoch 10/10\n",
      "820/820 [==============================] - 692s 845ms/step - loss: 0.0177 - auc: 0.9987 - val_loss: 1.2256 - val_auc: 0.6419\n"
     ]
    }
   ],
   "source": [
    "train_input = [X_train_essay_padded, X_train['school_state'], X_train['project_grade_category'], X_train['project_subject_categories'],\n",
    "               X_train['project_subject_subcategories'], X_train[num_data_cols]]\n",
    "\n",
    "val_input = [X_test_essay_padded, X_test['school_state'], X_test['project_grade_category'], X_test['project_subject_categories'], \n",
    "             X_test['project_subject_subcategories'], X_test[num_data_cols]]\n",
    "\n",
    "model_1.compile(optimizer = 'adam', loss = 'binary_crossentropy', metrics = [AUC()])\n",
    "performance = model_1.fit(x = train_input, y=y_train, epochs = 10, validation_data = (val_input, y_test), batch_size = 100)"
   ]
  },
  {
   "cell_type": "code",
   "execution_count": null,
   "metadata": {},
   "outputs": [],
   "source": []
  }
 ],
 "metadata": {
  "kernelspec": {
   "display_name": "Python 3 (ipykernel)",
   "language": "python",
   "name": "python3"
  },
  "language_info": {
   "codemirror_mode": {
    "name": "ipython",
    "version": 3
   },
   "file_extension": ".py",
   "mimetype": "text/x-python",
   "name": "python",
   "nbconvert_exporter": "python",
   "pygments_lexer": "ipython3",
   "version": "3.9.7"
  }
 },
 "nbformat": 4,
 "nbformat_minor": 4
}
